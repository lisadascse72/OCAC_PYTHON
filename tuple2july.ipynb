{
 "cells": [
  {
   "cell_type": "code",
   "execution_count": 1,
   "id": "13a7491c-1e45-437e-9897-50ed12151608",
   "metadata": {},
   "outputs": [
    {
     "data": {
      "text/plain": [
       "tuple"
      ]
     },
     "execution_count": 1,
     "metadata": {},
     "output_type": "execute_result"
    }
   ],
   "source": [
    "#tuple \n",
    "tup1=()\n",
    "type(tup1)"
   ]
  },
  {
   "cell_type": "code",
   "execution_count": 2,
   "id": "b9967501-a269-4977-92b0-60da4b95478b",
   "metadata": {},
   "outputs": [
    {
     "data": {
      "text/plain": [
       "tuple"
      ]
     },
     "execution_count": 2,
     "metadata": {},
     "output_type": "execute_result"
    }
   ],
   "source": [
    "tup2=tuple()\n",
    "type(tup2)"
   ]
  },
  {
   "cell_type": "code",
   "execution_count": 3,
   "id": "103c75f5-7406-4706-a09f-bd3ec0106032",
   "metadata": {},
   "outputs": [
    {
     "data": {
      "text/plain": [
       "(100, 'siv')"
      ]
     },
     "execution_count": 3,
     "metadata": {},
     "output_type": "execute_result"
    }
   ],
   "source": [
    "#tuple heteregogeneous\n",
    "tup3=(100,'siv')\n",
    "tup3"
   ]
  },
  {
   "cell_type": "code",
   "execution_count": 4,
   "id": "f9f2bd76-65cb-403b-a6c8-4de1336f3877",
   "metadata": {},
   "outputs": [
    {
     "data": {
      "text/plain": [
       "2"
      ]
     },
     "execution_count": 4,
     "metadata": {},
     "output_type": "execute_result"
    }
   ],
   "source": [
    "len(tup3)"
   ]
  },
  {
   "cell_type": "code",
   "execution_count": 5,
   "id": "aa667a4a-e2ae-4e4f-8a4d-a07f8c5f883c",
   "metadata": {},
   "outputs": [],
   "source": [
    "tup5=('siv',24,[20,100],[150,90])"
   ]
  },
  {
   "cell_type": "code",
   "execution_count": 6,
   "id": "10b451eb-e91c-4671-982e-3057e6057e67",
   "metadata": {},
   "outputs": [
    {
     "data": {
      "text/plain": [
       "150"
      ]
     },
     "execution_count": 6,
     "metadata": {},
     "output_type": "execute_result"
    }
   ],
   "source": [
    "tup5[3][0]"
   ]
  },
  {
   "cell_type": "code",
   "execution_count": 7,
   "id": "ad710de9-87de-402a-a7bd-e8e2a0158975",
   "metadata": {},
   "outputs": [
    {
     "data": {
      "text/plain": [
       "4"
      ]
     },
     "execution_count": 7,
     "metadata": {},
     "output_type": "execute_result"
    }
   ],
   "source": [
    "len(tup5)"
   ]
  },
  {
   "cell_type": "code",
   "execution_count": 9,
   "id": "2b0f012a-51c6-4ff7-8bf2-0e38f66399a9",
   "metadata": {},
   "outputs": [
    {
     "data": {
      "text/plain": [
       "7"
      ]
     },
     "execution_count": 9,
     "metadata": {},
     "output_type": "execute_result"
    }
   ],
   "source": [
    "b=(1,2,3,\"sara\",[4,5,8,'10'],(289,231),'ok')\n",
    "len(b)"
   ]
  },
  {
   "cell_type": "code",
   "execution_count": 10,
   "id": "be9c4ef3-1c87-48bf-8c15-b908d8916b75",
   "metadata": {},
   "outputs": [
    {
     "name": "stdout",
     "output_type": "stream",
     "text": [
      "(1, 2, 3, 'sara', [4, 5, 8, 'new'], (289, 231), 'ok')\n"
     ]
    }
   ],
   "source": [
    "b[4][3]='new'\n",
    "print(b)"
   ]
  },
  {
   "cell_type": "code",
   "execution_count": 12,
   "id": "bb3b5c6f-0e63-4875-a00c-76ae270c2bbd",
   "metadata": {},
   "outputs": [
    {
     "ename": "TypeError",
     "evalue": "'tuple' object does not support item assignment",
     "output_type": "error",
     "traceback": [
      "\u001b[1;31m---------------------------------------------------------------------------\u001b[0m",
      "\u001b[1;31mTypeError\u001b[0m                                 Traceback (most recent call last)",
      "Cell \u001b[1;32mIn[12], line 1\u001b[0m\n\u001b[1;32m----> 1\u001b[0m b[\u001b[38;5;241m5\u001b[39m][\u001b[38;5;241m0\u001b[39m]\u001b[38;5;241m=\u001b[39m\u001b[38;5;124m'\u001b[39m\u001b[38;5;124m289\u001b[39m\u001b[38;5;124m'\u001b[39m\n",
      "\u001b[1;31mTypeError\u001b[0m: 'tuple' object does not support item assignment"
     ]
    }
   ],
   "source": [
    "b[5][0]='289' #tuple immutable"
   ]
  },
  {
   "cell_type": "code",
   "execution_count": 13,
   "id": "c4098144-e1a7-46c3-a90e-8a5c0dcb4d29",
   "metadata": {},
   "outputs": [
    {
     "data": {
      "text/plain": [
       "tuple"
      ]
     },
     "execution_count": 13,
     "metadata": {},
     "output_type": "execute_result"
    }
   ],
   "source": [
    "type(b)"
   ]
  },
  {
   "cell_type": "code",
   "execution_count": 17,
   "id": "71cf9c9e-8dea-4344-808d-ab716d9ffb8c",
   "metadata": {},
   "outputs": [
    {
     "data": {
      "text/plain": [
       "[1, 2, 3, 'sara', [4, 5, 8, 'new'], (289, 231), 'ok']"
      ]
     },
     "execution_count": 17,
     "metadata": {},
     "output_type": "execute_result"
    }
   ],
   "source": [
    "list(b)"
   ]
  },
  {
   "cell_type": "code",
   "execution_count": 20,
   "id": "df95c5b6-311e-4e25-9ccd-407054deb5b4",
   "metadata": {},
   "outputs": [
    {
     "data": {
      "text/plain": [
       "\"(1, 2, 3, 'sara', [4, 5, 8, 'new'], (289, 231), 'ok')\""
      ]
     },
     "execution_count": 20,
     "metadata": {},
     "output_type": "execute_result"
    }
   ],
   "source": [
    "str(b)"
   ]
  },
  {
   "cell_type": "code",
   "execution_count": 25,
   "id": "d1f51939-2c73-4adf-84e4-b9cedf2b2fb8",
   "metadata": {},
   "outputs": [
    {
     "name": "stdout",
     "output_type": "stream",
     "text": [
      "(1, 2, 3, 'sara', [4, 5, 8, 'new'], (289, 231), 'ok')\n"
     ]
    }
   ],
   "source": [
    "list(b)\n",
    "print(b)"
   ]
  },
  {
   "cell_type": "code",
   "execution_count": 36,
   "id": "4fe15a9b-ca19-4f60-8c9f-ae0c78b6bde5",
   "metadata": {},
   "outputs": [
    {
     "data": {
      "text/plain": [
       "[289, 231]"
      ]
     },
     "execution_count": 36,
     "metadata": {},
     "output_type": "execute_result"
    }
   ],
   "source": [
    "v =list(b[5])\n",
    "v"
   ]
  },
  {
   "cell_type": "code",
   "execution_count": 37,
   "id": "f2a8aaef-1896-4a72-bf46-30b828fcb729",
   "metadata": {},
   "outputs": [
    {
     "data": {
      "text/plain": [
       "['28', 231]"
      ]
     },
     "execution_count": 37,
     "metadata": {},
     "output_type": "execute_result"
    }
   ],
   "source": [
    "v[0]='28'\n",
    "v"
   ]
  },
  {
   "cell_type": "code",
   "execution_count": 38,
   "id": "4e11a432-f56a-41ea-b940-199d50bc52e8",
   "metadata": {},
   "outputs": [
    {
     "data": {
      "text/plain": [
       "('28', 231)"
      ]
     },
     "execution_count": 38,
     "metadata": {},
     "output_type": "execute_result"
    }
   ],
   "source": [
    "w=tuple(v)\n",
    "w"
   ]
  },
  {
   "cell_type": "code",
   "execution_count": 39,
   "id": "4348351e-0e83-4009-bdff-0f1ca98e1e3f",
   "metadata": {},
   "outputs": [
    {
     "data": {
      "text/plain": [
       "(1, 2, 3, 'sara', [4, 5, 8, 'new'], '28', 231, 'ok')"
      ]
     },
     "execution_count": 39,
     "metadata": {},
     "output_type": "execute_result"
    }
   ],
   "source": [
    "b[:5]+(w)+b[6:]"
   ]
  },
  {
   "cell_type": "code",
   "execution_count": 1,
   "id": "8fb0546c-f875-4a51-881d-bf32b7ac8ef5",
   "metadata": {},
   "outputs": [
    {
     "data": {
      "text/plain": [
       "[1, 3, 4, 7, 8]"
      ]
     },
     "execution_count": 1,
     "metadata": {},
     "output_type": "execute_result"
    }
   ],
   "source": [
    "tup2=(1,3,4,8,7)\n",
    "sorted(tup2)\n"
   ]
  },
  {
   "cell_type": "code",
   "execution_count": 2,
   "id": "0297880d-a1d3-4389-9d8a-7e10f89dbc5b",
   "metadata": {},
   "outputs": [
    {
     "data": {
      "text/plain": [
       "[1, 1.2, 4, 4.5, 5.5, 6, 7]"
      ]
     },
     "execution_count": 2,
     "metadata": {},
     "output_type": "execute_result"
    }
   ],
   "source": [
    "tup3=(4.5,1.2,6,7,5.5,1,4)\n",
    "sorted(tup3)\n"
   ]
  },
  {
   "cell_type": "code",
   "execution_count": 3,
   "id": "9cac5b9c-0f52-4685-9ea1-b33497e6ad08",
   "metadata": {},
   "outputs": [
    {
     "ename": "TypeError",
     "evalue": "'<' not supported between instances of 'str' and 'float'",
     "output_type": "error",
     "traceback": [
      "\u001b[1;31m---------------------------------------------------------------------------\u001b[0m",
      "\u001b[1;31mTypeError\u001b[0m                                 Traceback (most recent call last)",
      "Cell \u001b[1;32mIn[3], line 2\u001b[0m\n\u001b[0;32m      1\u001b[0m tup4\u001b[38;5;241m=\u001b[39m(\u001b[38;5;241m4.5\u001b[39m,\u001b[38;5;241m1.2\u001b[39m,\u001b[38;5;241m6\u001b[39m,\u001b[38;5;241m7\u001b[39m,\u001b[38;5;241m5.5\u001b[39m,\u001b[38;5;241m1\u001b[39m,\u001b[38;5;124m'\u001b[39m\u001b[38;5;124ma\u001b[39m\u001b[38;5;124m'\u001b[39m)\n\u001b[1;32m----> 2\u001b[0m \u001b[38;5;28msorted\u001b[39m(tup4)\n",
      "\u001b[1;31mTypeError\u001b[0m: '<' not supported between instances of 'str' and 'float'"
     ]
    }
   ],
   "source": [
    "tup4=(4.5,1.2,6,7,5.5,1,'a')\n",
    "sorted(tup4)"
   ]
  },
  {
   "cell_type": "code",
   "execution_count": 4,
   "id": "07f94aad-b08b-463b-9d70-b6d6de94ceb3",
   "metadata": {},
   "outputs": [
    {
     "data": {
      "text/plain": [
       "['a', 'b']"
      ]
     },
     "execution_count": 4,
     "metadata": {},
     "output_type": "execute_result"
    }
   ],
   "source": [
    "tup5=('b','a')\n",
    "sorted(tup5)"
   ]
  },
  {
   "cell_type": "code",
   "execution_count": null,
   "id": "c223416f-4c01-47b5-8f19-d96ae09d51a0",
   "metadata": {},
   "outputs": [],
   "source": []
  }
 ],
 "metadata": {
  "kernelspec": {
   "display_name": "Python 3 (ipykernel)",
   "language": "python",
   "name": "python3"
  },
  "language_info": {
   "codemirror_mode": {
    "name": "ipython",
    "version": 3
   },
   "file_extension": ".py",
   "mimetype": "text/x-python",
   "name": "python",
   "nbconvert_exporter": "python",
   "pygments_lexer": "ipython3",
   "version": "3.11.7"
  }
 },
 "nbformat": 4,
 "nbformat_minor": 5
}
