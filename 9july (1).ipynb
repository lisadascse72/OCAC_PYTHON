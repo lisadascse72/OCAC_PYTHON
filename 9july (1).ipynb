{
 "cells": [
  {
   "cell_type": "code",
   "execution_count": 4,
   "id": "12ae6775-122f-46b4-a040-43f7897013d4",
   "metadata": {},
   "outputs": [
    {
     "name": "stdout",
     "output_type": "stream",
     "text": [
      "1\n",
      "2\n",
      "3\n"
     ]
    }
   ],
   "source": [
    "numbers=[1,2,3,4]\n",
    "for num in numbers:\n",
    "    if num==4:\n",
    "        break\n",
    "    print(num)"
   ]
  },
  {
   "cell_type": "code",
   "execution_count": 6,
   "id": "92fafae3-052c-4865-9d9b-1b493d6112f9",
   "metadata": {},
   "outputs": [],
   "source": [
    "numbers=[1,2,3,4]\n",
    "for num in numbers:\n",
    "    if num==4:\n",
    "       break\n",
    "       print(num)"
   ]
  },
  {
   "cell_type": "code",
   "execution_count": 15,
   "id": "8e06a858-45c9-45d2-a210-8fbc8829b229",
   "metadata": {},
   "outputs": [
    {
     "name": "stdout",
     "output_type": "stream",
     "text": [
      "4\n",
      "4\n"
     ]
    }
   ],
   "source": [
    "numbers=[1,2,3,4]\n",
    "for num in numbers:\n",
    "    if num==4:\n",
    "       print(num)\n",
    "       print(num)"
   ]
  },
  {
   "cell_type": "code",
   "execution_count": 19,
   "id": "d98ea691-77b5-4101-9353-40e425e7eb34",
   "metadata": {},
   "outputs": [
    {
     "name": "stdout",
     "output_type": "stream",
     "text": [
      "1\n",
      "2\n",
      "3\n",
      "4\n"
     ]
    }
   ],
   "source": [
    "numbers=[1,2,3,4,5,6]\n",
    "for num in numbers:\n",
    "    if num==4:\n",
    "       print(num)\n",
    "       break #break hogaya aur aage nahi ayega\n",
    "    print(num)"
   ]
  },
  {
   "cell_type": "code",
   "execution_count": 20,
   "id": "e9bafa1a-2dca-477d-b468-51965abddb4f",
   "metadata": {},
   "outputs": [
    {
     "name": "stdout",
     "output_type": "stream",
     "text": [
      "4\n"
     ]
    }
   ],
   "source": [
    "numbers=[1,2,3,4,5,6]\n",
    "for num in numbers:\n",
    "    if num==4:\n",
    "        break\n",
    "print(num)"
   ]
  },
  {
   "cell_type": "code",
   "execution_count": 21,
   "id": "c54dcfbc-c076-4762-9d1b-107999befe1d",
   "metadata": {},
   "outputs": [
    {
     "name": "stdout",
     "output_type": "stream",
     "text": [
      "6\n"
     ]
    }
   ],
   "source": [
    "numbers=[1,2,3,4,5,6]\n",
    "for num in numbers:\n",
    "    if num==4:\n",
    "        continue\n",
    "print(num) #print is out of for loop,last value stored in num dispalyed"
   ]
  },
  {
   "cell_type": "code",
   "execution_count": 25,
   "id": "3042d6da-d4e1-4b43-9fa8-d1dbf0bf9f8f",
   "metadata": {},
   "outputs": [
    {
     "name": "stdout",
     "output_type": "stream",
     "text": [
      "1\n",
      "2\n",
      "3\n",
      "5\n",
      "6\n"
     ]
    }
   ],
   "source": [
    "numbers=[1,2,3,4,5,6]\n",
    "for num in numbers:\n",
    "    if num==4:\n",
    "        continue\n",
    "    print(num)\n",
    "    #4 is iterated , print is out of if "
   ]
  },
  {
   "cell_type": "code",
   "execution_count": 27,
   "id": "12f4c01d-6585-485a-89bd-9510a9703cc4",
   "metadata": {},
   "outputs": [],
   "source": [
    "numbers=[1,2,3,4,5,6]\n",
    "for num in numbers:\n",
    "    if num==4:\n",
    "        continue\n",
    "        print(num) #sab andar with indentation in for and if condition,so not running, sab skip hoing"
   ]
  },
  {
   "cell_type": "code",
   "execution_count": 7,
   "id": "ea1d4463-32c9-4489-ac30-f0ba8a7f2a28",
   "metadata": {},
   "outputs": [
    {
     "name": "stdout",
     "output_type": "stream",
     "text": [
      "1\n",
      "2\n",
      "3\n",
      "4\n",
      "5\n",
      "6\n",
      "7\n",
      "8\n",
      "9\n",
      "10\n",
      "11\n"
     ]
    }
   ],
   "source": [
    "a=0\n",
    "while a<=10:\n",
    "    a=a+1\n",
    "    print(a)"
   ]
  },
  {
   "cell_type": "code",
   "execution_count": 5,
   "id": "dd0e0bda-b45c-4e9a-89ce-3f238383b539",
   "metadata": {},
   "outputs": [
    {
     "name": "stdout",
     "output_type": "stream",
     "text": [
      "0\n",
      "1\n",
      "2\n",
      "3\n",
      "4\n",
      "5\n",
      "6\n",
      "7\n",
      "8\n",
      "9\n",
      "10\n"
     ]
    }
   ],
   "source": [
    "a=0\n",
    "while a<=10:\n",
    "    print(a)\n",
    "    a=a+1"
   ]
  },
  {
   "cell_type": "code",
   "execution_count": 15,
   "id": "11b275d1-ef0f-4d75-b3ad-876b5d30fd4a",
   "metadata": {},
   "outputs": [
    {
     "name": "stdin",
     "output_type": "stream",
     "text": [
      "enter val: 6\n",
      "enter val: 5\n",
      "enter val: done\n"
     ]
    },
    {
     "name": "stdout",
     "output_type": "stream",
     "text": [
      "11\n"
     ]
    }
   ],
   "source": [
    "s=0\n",
    "while True:\n",
    "    a=input('enter val:')\n",
    "    if(a=='done'):\n",
    "        break\n",
    "    s=s+int(a)\n",
    "print(s)"
   ]
  },
  {
   "cell_type": "code",
   "execution_count": 16,
   "id": "549b8977-3a3c-4b38-9778-34fc03880b73",
   "metadata": {},
   "outputs": [
    {
     "name": "stdout",
     "output_type": "stream",
     "text": [
      "1\n",
      "2\n",
      "3\n",
      "4\n",
      "5\n",
      "no item left in list\n"
     ]
    }
   ],
   "source": [
    "numbers=[1,2,3,4,5]\n",
    "index=0\n",
    "while index<len(numbers):\n",
    "    print(numbers[index]) #number of that index posn printed\n",
    "    index+=1\n",
    "else:\n",
    "    print(\"no item left in list\")\n",
    "    "
   ]
  },
  {
   "cell_type": "code",
   "execution_count": null,
   "id": "dae96d77-88d7-49ea-b7d8-b2a70e355253",
   "metadata": {},
   "outputs": [],
   "source": []
  }
 ],
 "metadata": {
  "kernelspec": {
   "display_name": "Python 3 (ipykernel)",
   "language": "python",
   "name": "python3"
  },
  "language_info": {
   "codemirror_mode": {
    "name": "ipython",
    "version": 3
   },
   "file_extension": ".py",
   "mimetype": "text/x-python",
   "name": "python",
   "nbconvert_exporter": "python",
   "pygments_lexer": "ipython3",
   "version": "3.11.7"
  }
 },
 "nbformat": 4,
 "nbformat_minor": 5
}
