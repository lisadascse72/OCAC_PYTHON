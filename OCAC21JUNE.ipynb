{
 "cells": [
  {
   "cell_type": "code",
   "execution_count": 2,
   "id": "b2978ef9-5517-485b-8a58-a7ef209a8ed3",
   "metadata": {},
   "outputs": [
    {
     "name": "stdout",
     "output_type": "stream",
     "text": [
      "A + b\n"
     ]
    },
    {
     "data": {
      "text/plain": [
       "' bhai bhai bhai'"
      ]
     },
     "execution_count": 2,
     "metadata": {},
     "output_type": "execute_result"
    }
   ],
   "source": [
    "A = 1 #deaclare variable\n",
    "b = 2\n",
    "A + b\n",
    "print(\"A + b\") #summation\n",
    "\"\"\" bhai bhai bhai\"\"\""
   ]
  },
  {
   "cell_type": "code",
   "execution_count": null,
   "id": "ff1a7555-fa6e-4f55-af71-33cae9efd989",
   "metadata": {},
   "outputs": [],
   "source": []
  },
  {
   "cell_type": "code",
   "execution_count": 3,
   "id": "afb1057b-d379-43b4-a3e0-bf2af5ca337d",
   "metadata": {},
   "outputs": [
    {
     "name": "stdout",
     "output_type": "stream",
     "text": [
      "A + b\n"
     ]
    },
    {
     "data": {
      "text/plain": [
       "' bhai bhai bhai'"
      ]
     },
     "execution_count": 3,
     "metadata": {},
     "output_type": "execute_result"
    }
   ],
   "source": [
    "A = 1 #deaclare variable\n",
    "b = 2\n",
    "A + b\n",
    "print(\"A + b\") #summation\n",
    "\"\"\" bhai bhai bhai\"\"\""
   ]
  },
  {
   "cell_type": "code",
   "execution_count": 4,
   "id": "255135de-b2f1-4e87-9fde-a43fccffd001",
   "metadata": {},
   "outputs": [
    {
     "name": "stdout",
     "output_type": "stream",
     "text": [
      "A + b\n"
     ]
    },
    {
     "data": {
      "text/plain": [
       "' bhai bhai bhai'"
      ]
     },
     "execution_count": 4,
     "metadata": {},
     "output_type": "execute_result"
    }
   ],
   "source": [
    "A = 1 #deaclare variable\n",
    "b = 2\n",
    "print(A + b) #summation\n",
    "\"\"\" bhai bhai bhai\"\"\""
   ]
  },
  {
   "cell_type": "code",
   "execution_count": 5,
   "id": "d8baa8ca-3671-4ebf-a5b6-83c8777b96f6",
   "metadata": {},
   "outputs": [
    {
     "name": "stdout",
     "output_type": "stream",
     "text": [
      "3\n"
     ]
    },
    {
     "data": {
      "text/plain": [
       "' bhai bhai bhai'"
      ]
     },
     "execution_count": 5,
     "metadata": {},
     "output_type": "execute_result"
    }
   ],
   "source": [
    "A = 1 #deaclare variable\n",
    "b = 2\n",
    "print(A + b) #summation\n",
    "\"\"\" bhai bhai bhai\"\"\""
   ]
  },
  {
   "cell_type": "code",
   "execution_count": 6,
   "id": "17119cf4-9982-4ba2-8cce-3391ae7721a1",
   "metadata": {},
   "outputs": [
    {
     "name": "stdout",
     "output_type": "stream",
     "text": [
      "sumation is 16\n"
     ]
    },
    {
     "data": {
      "text/plain": [
       "16"
      ]
     },
     "execution_count": 6,
     "metadata": {},
     "output_type": "execute_result"
    }
   ],
   "source": [
    "z=15\n",
    "d=1\n",
    "u=z+d\n",
    "u\n",
    "v=print(\"sumation is\", z+d)\n",
    "u"
   ]
  },
  {
   "cell_type": "code",
   "execution_count": 7,
   "id": "79bc2136-eecf-4ce7-9b0f-4b231d3539a2",
   "metadata": {},
   "outputs": [
    {
     "name": "stdout",
     "output_type": "stream",
     "text": [
      "summation is 3\n"
     ]
    },
    {
     "data": {
      "text/plain": [
       "100"
      ]
     },
     "execution_count": 7,
     "metadata": {},
     "output_type": "execute_result"
    }
   ],
   "source": [
    "z=1\n",
    "c=2\n",
    "v=100\n",
    "u=z+c\n",
    "u\n",
    "print(\"summation is\",z+c)\n",
    "v"
   ]
  },
  {
   "cell_type": "code",
   "execution_count": 8,
   "id": "0f78e7ba-53e8-4562-8f4b-57e14fe52038",
   "metadata": {},
   "outputs": [
    {
     "name": "stdout",
     "output_type": "stream",
     "text": [
      "['False', 'None', 'True', 'and', 'as', 'assert', 'async', 'await', 'break', 'class', 'continue', 'def', 'del', 'elif', 'else', 'except', 'finally', 'for', 'from', 'global', 'if', 'import', 'in', 'is', 'lambda', 'nonlocal', 'not', 'or', 'pass', 'raise', 'return', 'try', 'while', 'with', 'yield']\n"
     ]
    }
   ],
   "source": [
    "import keyword\n",
    "keywords =  keyword.kwlist\n",
    "print(keywords)"
   ]
  },
  {
   "cell_type": "code",
   "execution_count": 9,
   "id": "c482fd80-0c92-4578-b971-94903fce5cef",
   "metadata": {},
   "outputs": [
    {
     "data": {
      "text/plain": [
       "35"
      ]
     },
     "execution_count": 9,
     "metadata": {},
     "output_type": "execute_result"
    }
   ],
   "source": [
    "len(keywords)"
   ]
  },
  {
   "cell_type": "code",
   "execution_count": 10,
   "id": "a875b1d5-0d7e-4296-8e41-793bcfcf1ffe",
   "metadata": {},
   "outputs": [
    {
     "name": "stdin",
     "output_type": "stream",
     "text": [
      "kidhar se ho? bbsr\n"
     ]
    },
    {
     "ename": "NameError",
     "evalue": "name 'bbsr' is not defined",
     "output_type": "error",
     "traceback": [
      "\u001b[1;31m---------------------------------------------------------------------------\u001b[0m",
      "\u001b[1;31mNameError\u001b[0m                                 Traceback (most recent call last)",
      "Cell \u001b[1;32mIn[10], line 2\u001b[0m\n\u001b[0;32m      1\u001b[0m b\u001b[38;5;241m=\u001b[39m\u001b[38;5;28minput\u001b[39m(\u001b[38;5;124m\"\u001b[39m\u001b[38;5;124mkidhar se ho?\u001b[39m\u001b[38;5;124m\"\u001b[39m)\n\u001b[1;32m----> 2\u001b[0m \u001b[38;5;28mprint\u001b[39m(\u001b[38;5;124m\"\u001b[39m\u001b[38;5;124mme hun from\u001b[39m\u001b[38;5;124m\"\u001b[39m, bbsr)\n",
      "\u001b[1;31mNameError\u001b[0m: name 'bbsr' is not defined"
     ]
    }
   ],
   "source": [
    "b=input(\"kidhar se ho?\")\n",
    "print(\"me hun from\", b)\n"
   ]
  },
  {
   "cell_type": "code",
   "execution_count": 13,
   "id": "dd9588f1-65e1-4491-99e1-7a82d68e131f",
   "metadata": {},
   "outputs": [
    {
     "name": "stdin",
     "output_type": "stream",
     "text": [
      "kidhar se ho? bbsr\n",
      "id 24\n"
     ]
    },
    {
     "name": "stdout",
     "output_type": "stream",
     "text": [
      "me hun from bbsr\n"
     ]
    }
   ],
   "source": [
    "b=input(\"kidhar se ho?\")\n",
    "c=input(\"id\")\n",
    "print(\"me hun from\", b)\n"
   ]
  },
  {
   "cell_type": "code",
   "execution_count": 15,
   "id": "99109a06-f307-43df-a006-4ea4425e36ec",
   "metadata": {},
   "outputs": [
    {
     "name": "stdout",
     "output_type": "stream",
     "text": [
      "i m from bbsr n my id is 24\n"
     ]
    }
   ],
   "source": [
    "print(\"i m from {} n my id is {}\".format(b,c))"
   ]
  },
  {
   "cell_type": "code",
   "execution_count": 16,
   "id": "fc14a42b-bdad-4fca-bc24-62e53af5dd28",
   "metadata": {},
   "outputs": [],
   "source": [
    "first_name=\"lisa\"\n",
    "last_name=\"das\""
   ]
  },
  {
   "cell_type": "code",
   "execution_count": 19,
   "id": "3dafff06-7d54-497d-8cb3-f4399693272b",
   "metadata": {},
   "outputs": [
    {
     "name": "stdout",
     "output_type": "stream",
     "text": [
      "hello lizz hi\n"
     ]
    }
   ],
   "source": [
    "print(\"hello {name} {greet}\".format(name=\"lizz\",greet=\"hi\"))"
   ]
  },
  {
   "cell_type": "code",
   "execution_count": 1,
   "id": "0e5bec77-5b81-4b8e-b27a-884c7008f9f8",
   "metadata": {},
   "outputs": [
    {
     "ename": "NameError",
     "evalue": "name 'PWD' is not defined",
     "output_type": "error",
     "traceback": [
      "\u001b[1;31m---------------------------------------------------------------------------\u001b[0m",
      "\u001b[1;31mNameError\u001b[0m                                 Traceback (most recent call last)",
      "Cell \u001b[1;32mIn[1], line 1\u001b[0m\n\u001b[1;32m----> 1\u001b[0m PWD\n",
      "\u001b[1;31mNameError\u001b[0m: name 'PWD' is not defined"
     ]
    }
   ],
   "source": [
    "PWD\n"
   ]
  },
  {
   "cell_type": "code",
   "execution_count": 2,
   "id": "7f3f6adf-0f6e-4a4d-88dd-36274c9ab84f",
   "metadata": {},
   "outputs": [
    {
     "data": {
      "text/plain": [
       "'C:\\\\Users\\\\lisa'"
      ]
     },
     "execution_count": 2,
     "metadata": {},
     "output_type": "execute_result"
    }
   ],
   "source": [
    "pwd\n"
   ]
  },
  {
   "cell_type": "code",
   "execution_count": null,
   "id": "965adb92-12bb-4fb0-9288-914be726f477",
   "metadata": {},
   "outputs": [],
   "source": []
  }
 ],
 "metadata": {
  "kernelspec": {
   "display_name": "Python 3 (ipykernel)",
   "language": "python",
   "name": "python3"
  },
  "language_info": {
   "codemirror_mode": {
    "name": "ipython",
    "version": 3
   },
   "file_extension": ".py",
   "mimetype": "text/x-python",
   "name": "python",
   "nbconvert_exporter": "python",
   "pygments_lexer": "ipython3",
   "version": "3.11.7"
  }
 },
 "nbformat": 4,
 "nbformat_minor": 5
}
