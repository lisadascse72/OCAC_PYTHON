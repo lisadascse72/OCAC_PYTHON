{
 "cells": [
  {
   "cell_type": "code",
   "execution_count": 37,
   "id": "e10835a6-7efc-4c90-96c5-7e14067a818d",
   "metadata": {},
   "outputs": [],
   "source": [
    "def students():\n",
    "    for i in range(10):\n",
    "        name=input(\"enter 10 names of students:\")\n",
    "        print(name)\n",
    "    "
   ]
  },
  {
   "cell_type": "code",
   "execution_count": 38,
   "id": "adcdafdc-a98f-4ff4-8aea-ae842b165d98",
   "metadata": {},
   "outputs": [
    {
     "name": "stdin",
     "output_type": "stream",
     "text": [
      "enter 10 names of students: lol\n"
     ]
    },
    {
     "name": "stdout",
     "output_type": "stream",
     "text": [
      "lol\n"
     ]
    },
    {
     "name": "stdin",
     "output_type": "stream",
     "text": [
      "enter 10 names of students: w\n"
     ]
    },
    {
     "name": "stdout",
     "output_type": "stream",
     "text": [
      "w\n"
     ]
    },
    {
     "name": "stdin",
     "output_type": "stream",
     "text": [
      "enter 10 names of students: w\n"
     ]
    },
    {
     "name": "stdout",
     "output_type": "stream",
     "text": [
      "w\n"
     ]
    },
    {
     "name": "stdin",
     "output_type": "stream",
     "text": [
      "enter 10 names of students: r\n"
     ]
    },
    {
     "name": "stdout",
     "output_type": "stream",
     "text": [
      "r\n"
     ]
    },
    {
     "name": "stdin",
     "output_type": "stream",
     "text": [
      "enter 10 names of students: \n"
     ]
    },
    {
     "name": "stdout",
     "output_type": "stream",
     "text": [
      "\n"
     ]
    },
    {
     "name": "stdin",
     "output_type": "stream",
     "text": [
      "enter 10 names of students: t\n"
     ]
    },
    {
     "name": "stdout",
     "output_type": "stream",
     "text": [
      "t\n"
     ]
    },
    {
     "name": "stdin",
     "output_type": "stream",
     "text": [
      "enter 10 names of students: f\n"
     ]
    },
    {
     "name": "stdout",
     "output_type": "stream",
     "text": [
      "f\n"
     ]
    },
    {
     "name": "stdin",
     "output_type": "stream",
     "text": [
      "enter 10 names of students: d\n"
     ]
    },
    {
     "name": "stdout",
     "output_type": "stream",
     "text": [
      "d\n"
     ]
    },
    {
     "name": "stdin",
     "output_type": "stream",
     "text": [
      "enter 10 names of students: d\n"
     ]
    },
    {
     "name": "stdout",
     "output_type": "stream",
     "text": [
      "d\n"
     ]
    },
    {
     "name": "stdin",
     "output_type": "stream",
     "text": [
      "enter 10 names of students: e\n"
     ]
    },
    {
     "name": "stdout",
     "output_type": "stream",
     "text": [
      "e\n"
     ]
    }
   ],
   "source": [
    "students()\n"
   ]
  },
  {
   "cell_type": "code",
   "execution_count": 13,
   "id": "30c01528-845d-46b1-a188-e418212a742e",
   "metadata": {},
   "outputs": [],
   "source": [
    "class myclass:\n",
    "    x=5"
   ]
  },
  {
   "cell_type": "code",
   "execution_count": 14,
   "id": "ec08e52d-0a2b-41a7-b19d-7cb3d1e7836a",
   "metadata": {},
   "outputs": [
    {
     "name": "stdout",
     "output_type": "stream",
     "text": [
      "5\n"
     ]
    }
   ],
   "source": [
    "p1=myclass()\n",
    "print(p1.x)"
   ]
  },
  {
   "cell_type": "code",
   "execution_count": 25,
   "id": "8247272c-69db-4cf9-bd88-00f6da0cbbed",
   "metadata": {},
   "outputs": [],
   "source": [
    "class person:\n",
    "    def __init__ (self,name,age):\n",
    "        self.name=name\n",
    "        self.age=age\n",
    "\n",
    "\n"
   ]
  },
  {
   "cell_type": "code",
   "execution_count": 26,
   "id": "911b8400-415e-45cb-bdcf-a5c5de916c72",
   "metadata": {},
   "outputs": [
    {
     "name": "stdout",
     "output_type": "stream",
     "text": [
      "lisa\n",
      "19\n"
     ]
    }
   ],
   "source": [
    "p1=person(\"lisa\",19)\n",
    "print(p1.name)\n",
    "print(p1.age)"
   ]
  },
  {
   "cell_type": "code",
   "execution_count": 47,
   "id": "01cc5794-ee3a-4327-8e64-9e1a17fc5cb5",
   "metadata": {},
   "outputs": [],
   "source": [
    "def is_prime(n):\n",
    "    \"\"\"Check if a number is prime.\"\"\"\n",
    "    if n <= 1:\n",
    "        return False  # 0 and 1 are not prime numbers\n",
    "    for i in range(2, n): #2 and n will be skipped\n",
    "        if n % i == 0:\n",
    "            return False  # n is divisible by i, so it's not a prime number\n",
    "    return True  # n is not divisible by any number other than 1 and itself, so it's prime\n"
   ]
  },
  {
   "cell_type": "code",
   "execution_count": 48,
   "id": "48201097-6ef6-4e43-81cb-dceaab4b1431",
   "metadata": {},
   "outputs": [
    {
     "name": "stdin",
     "output_type": "stream",
     "text": [
      "enter number: 19\n"
     ]
    },
    {
     "name": "stdout",
     "output_type": "stream",
     "text": [
      "19 is a prime number.\n"
     ]
    }
   ],
   "source": [
    "n=int(input(\"enter number:\"))\n",
    "if is_prime(n):\n",
    "    print(f\"{n} is a prime number.\")\n",
    "else:\n",
    "    print(f\"{n} is not a prime number.\")"
   ]
  },
  {
   "cell_type": "code",
   "execution_count": 2,
   "id": "eff2ad1c-cb27-4b45-b4a4-2db1ce7686ad",
   "metadata": {},
   "outputs": [
    {
     "name": "stdout",
     "output_type": "stream",
     "text": [
      "Temperature Conversion\n",
      "1. Celsius to Fahrenheit\n",
      "2. Fahrenheit to Celsius\n"
     ]
    },
    {
     "name": "stdin",
     "output_type": "stream",
     "text": [
      "Choose your conversion (1 or 2):  1\n",
      "Enter temperature in Celsius:  24\n"
     ]
    },
    {
     "name": "stdout",
     "output_type": "stream",
     "text": [
      "24.0°C is 75.2°F\n"
     ]
    }
   ],
   "source": [
    "def celsius_to_fahrenheit(celsius):\n",
    "    return (celsius * 9/5) + 32\n",
    "\n",
    "def fahrenheit_to_celsius(fahrenheit):\n",
    "    return (fahrenheit - 32) * 5/9\n",
    "\n",
    "def main():\n",
    "    print(\"Temperature Conversion\")\n",
    "    print(\"1. Celsius to Fahrenheit\")\n",
    "    print(\"2. Fahrenheit to Celsius\")\n",
    "    choice = input(\"Choose your conversion (1 or 2): \")\n",
    "    \n",
    "    if choice == '1':\n",
    "        celsius = float(input(\"Enter temperature in Celsius: \"))\n",
    "        fahrenheit = celsius_to_fahrenheit(celsius)\n",
    "        print(f\"{celsius}°C is {fahrenheit}°F\")\n",
    "    elif choice == '2':\n",
    "        fahrenheit = float(input(\"Enter temperature in Fahrenheit: \"))\n",
    "        celsius = fahrenheit_to_celsius(fahrenheit)\n",
    "        print(f\"{fahrenheit}°F is {celsius}°C\")\n",
    "    else:\n",
    "        print(\"Invalid choice. Please select 1 or 2.\")\n",
    "\n",
    "if __name__ == \"__main__\":\n",
    "    main()\n"
   ]
  },
  {
   "cell_type": "code",
   "execution_count": 3,
   "id": "d05693f3-554c-409e-88a7-870b1a8527dd",
   "metadata": {},
   "outputs": [
    {
     "name": "stdin",
     "output_type": "stream",
     "text": [
      "Enter a string:  de\n"
     ]
    },
    {
     "name": "stdout",
     "output_type": "stream",
     "text": [
      "The number of vowels in the string is: 1\n"
     ]
    }
   ],
   "source": [
    "def count_vowels(input_string):\n",
    "    vowels = \"aeiouAEIOU\"\n",
    "    count = 0\n",
    "    for char in input_string:\n",
    "        if char in vowels:\n",
    "            count += 1\n",
    "    return count\n",
    "\n",
    "def main():\n",
    "    user_input = input(\"Enter a string: \")\n",
    "    vowel_count = count_vowels(user_input)\n",
    "    print(f\"The number of vowels in the string is: {vowel_count}\")\n",
    "\n",
    "if __name__ == \"__main__\":\n",
    "    main()\n"
   ]
  },
  {
   "cell_type": "code",
   "execution_count": null,
   "id": "36b05685-06e8-4a13-80ba-6dcb1cda7886",
   "metadata": {},
   "outputs": [],
   "source": []
  }
 ],
 "metadata": {
  "kernelspec": {
   "display_name": "Python 3 (ipykernel)",
   "language": "python",
   "name": "python3"
  },
  "language_info": {
   "codemirror_mode": {
    "name": "ipython",
    "version": 3
   },
   "file_extension": ".py",
   "mimetype": "text/x-python",
   "name": "python",
   "nbconvert_exporter": "python",
   "pygments_lexer": "ipython3",
   "version": "3.11.7"
  }
 },
 "nbformat": 4,
 "nbformat_minor": 5
}
