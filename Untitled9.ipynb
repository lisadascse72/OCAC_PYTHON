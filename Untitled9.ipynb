{
 "cells": [
  {
   "cell_type": "code",
   "execution_count": 1,
   "id": "c0c9e5f9-e6dd-4d86-8ace-aeee7e7742ba",
   "metadata": {},
   "outputs": [
    {
     "name": "stdout",
     "output_type": "stream",
     "text": [
      "[524]\n"
     ]
    }
   ],
   "source": [
    "#random number generator\n",
    "import random\n",
    "num=random.randint(1,1000)\n",
    "list=[]\n",
    "list.append(num)\n",
    "print(list)"
   ]
  },
  {
   "cell_type": "code",
   "execution_count": 4,
   "id": "62f67511-d799-4a0f-b946-ce3bad9ed1b9",
   "metadata": {},
   "outputs": [
    {
     "data": {
      "text/plain": [
       "{1, 3, 4, 10, 11, 23, 45, 56}"
      ]
     },
     "execution_count": 4,
     "metadata": {},
     "output_type": "execute_result"
    }
   ],
   "source": [
    "set([23,56,11,10,3,1,4,45])"
   ]
  },
  {
   "cell_type": "code",
   "execution_count": 2,
   "id": "d25188fd-8302-49f0-9453-6f71ffa7eae9",
   "metadata": {},
   "outputs": [
    {
     "data": {
      "text/plain": [
       "[1, 3, 4, 10, 11, 45, 23, 56]"
      ]
     },
     "execution_count": 2,
     "metadata": {},
     "output_type": "execute_result"
    }
   ],
   "source": [
    "b = list(set([23,56,11,10,3,1,4,45]))\n",
    "b"
   ]
  },
  {
   "cell_type": "code",
   "execution_count": 1,
   "id": "6c6a8a15-55a9-4ff9-b0ea-99c20fe283a0",
   "metadata": {},
   "outputs": [
    {
     "name": "stdout",
     "output_type": "stream",
     "text": [
      "{1, 3, 4, 10, 11, 45, 23, 56}\n"
     ]
    }
   ],
   "source": [
    "a=[23,56,11,10,3,1,4,45]\n",
    "b=set(a)\n",
    "print(b)"
   ]
  },
  {
   "cell_type": "code",
   "execution_count": 2,
   "id": "2115be30-b05e-4727-8570-193d51f03ae0",
   "metadata": {},
   "outputs": [
    {
     "name": "stdout",
     "output_type": "stream",
     "text": [
      "{1, 3, 4, 10, 11, 45, 23, 56}\n"
     ]
    }
   ],
   "source": [
    "a=(23,56,11,10,3,1,4,45)\n",
    "b=set(a)\n",
    "print(b)"
   ]
  },
  {
   "cell_type": "code",
   "execution_count": 3,
   "id": "4c85d2a0-be52-4285-ad50-5e7336fcee64",
   "metadata": {},
   "outputs": [
    {
     "name": "stdout",
     "output_type": "stream",
     "text": [
      "(1, 3, 4, 10, 11, 45, 23, 56)\n"
     ]
    }
   ],
   "source": [
    "c=tuple(b)\n",
    "print(c)"
   ]
  },
  {
   "cell_type": "code",
   "execution_count": 4,
   "id": "4b02b761-2adf-4f3b-94d1-642220ef871e",
   "metadata": {},
   "outputs": [
    {
     "name": "stdout",
     "output_type": "stream",
     "text": [
      "{1, 3, 23, 56, 10}\n"
     ]
    }
   ],
   "source": [
    "#shallow copy \n",
    "a={23,10,1,3,56}\n",
    "b=a\n",
    "print(b)"
   ]
  },
  {
   "cell_type": "code",
   "execution_count": 8,
   "id": "4b923495-f990-4e39-ad90-309a5d525617",
   "metadata": {},
   "outputs": [
    {
     "name": "stdout",
     "output_type": "stream",
     "text": [
      "(23, 10, 1, 3, 56)\n"
     ]
    }
   ],
   "source": [
    "#shallow copy in tuple \n",
    "a=(23,10,1,3,56)\n",
    "b=a\n",
    "print(b)"
   ]
  },
  {
   "cell_type": "code",
   "execution_count": 7,
   "id": "1146bdf6-a0ae-4878-bac6-48c60b661eec",
   "metadata": {},
   "outputs": [
    {
     "ename": "AttributeError",
     "evalue": "'tuple' object has no attribute 'copy'",
     "output_type": "error",
     "traceback": [
      "\u001b[1;31m---------------------------------------------------------------------------\u001b[0m",
      "\u001b[1;31mAttributeError\u001b[0m                            Traceback (most recent call last)",
      "Cell \u001b[1;32mIn[7], line 3\u001b[0m\n\u001b[0;32m      1\u001b[0m \u001b[38;5;66;03m#deep copy\u001b[39;00m\n\u001b[0;32m      2\u001b[0m a\u001b[38;5;241m=\u001b[39m(\u001b[38;5;241m23\u001b[39m,\u001b[38;5;241m10\u001b[39m,\u001b[38;5;241m1\u001b[39m,\u001b[38;5;241m3\u001b[39m,\u001b[38;5;241m56\u001b[39m)\n\u001b[1;32m----> 3\u001b[0m a\u001b[38;5;241m.\u001b[39mcopy()\n",
      "\u001b[1;31mAttributeError\u001b[0m: 'tuple' object has no attribute 'copy'"
     ]
    }
   ],
   "source": [
    "#deep copy\n",
    "a=(23,10,1,3,56)\n",
    "a.copy()\n"
   ]
  },
  {
   "cell_type": "code",
   "execution_count": 12,
   "id": "fff30dbf-4ca5-43cb-b72d-06a925b2925d",
   "metadata": {},
   "outputs": [
    {
     "data": {
      "text/plain": [
       "dict"
      ]
     },
     "execution_count": 12,
     "metadata": {},
     "output_type": "execute_result"
    }
   ],
   "source": [
    "dic={1:7,2:'abc',3:12,4:'bacha'}\n",
    "type(dic)"
   ]
  },
  {
   "cell_type": "code",
   "execution_count": 13,
   "id": "a302d6ee-2709-4066-a7d6-19efd9880b1c",
   "metadata": {},
   "outputs": [
    {
     "data": {
      "text/plain": [
       "{1: 7, 2: 'abc', 3: 12, 4: 'bacha'}"
      ]
     },
     "execution_count": 13,
     "metadata": {},
     "output_type": "execute_result"
    }
   ],
   "source": [
    "dic\n"
   ]
  },
  {
   "cell_type": "code",
   "execution_count": null,
   "id": "b2cac403-0df5-4375-b652-40cd9db5a19e",
   "metadata": {},
   "outputs": [],
   "source": []
  }
 ],
 "metadata": {
  "kernelspec": {
   "display_name": "Python 3 (ipykernel)",
   "language": "python",
   "name": "python3"
  },
  "language_info": {
   "codemirror_mode": {
    "name": "ipython",
    "version": 3
   },
   "file_extension": ".py",
   "mimetype": "text/x-python",
   "name": "python",
   "nbconvert_exporter": "python",
   "pygments_lexer": "ipython3",
   "version": "3.11.7"
  }
 },
 "nbformat": 4,
 "nbformat_minor": 5
}
