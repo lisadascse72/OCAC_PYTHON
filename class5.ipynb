{
 "cells": [
  {
   "cell_type": "code",
   "execution_count": 1,
   "id": "2d607ad0-8641-48e1-891a-11f5db63af8c",
   "metadata": {},
   "outputs": [
    {
     "name": "stdout",
     "output_type": "stream",
     "text": [
      "10.5\n",
      "<class 'float'>\n"
     ]
    }
   ],
   "source": [
    "a=10.5\n",
    "print(a)\n",
    "print(type(a))"
   ]
  },
  {
   "cell_type": "code",
   "execution_count": 2,
   "id": "9e47b65f-cdbf-466f-8590-00067eb78667",
   "metadata": {},
   "outputs": [
    {
     "name": "stdout",
     "output_type": "stream",
     "text": [
      "10.5\n",
      "<class 'float'>\n"
     ]
    }
   ],
   "source": [
    "a=010.50\n",
    "print(a)\n",
    "print(type(a))"
   ]
  },
  {
   "cell_type": "code",
   "execution_count": 3,
   "id": "70137e67-73c0-4f21-80b2-c0c8ef714ca9",
   "metadata": {},
   "outputs": [
    {
     "name": "stdout",
     "output_type": "stream",
     "text": [
      "10.501\n",
      "<class 'float'>\n"
     ]
    }
   ],
   "source": [
    "a=010.501\n",
    "print(a)\n",
    "print(type(a))"
   ]
  },
  {
   "cell_type": "code",
   "execution_count": 6,
   "id": "b8d5b9d1-17e8-4eb2-bc59-90f41488cf74",
   "metadata": {},
   "outputs": [
    {
     "data": {
      "text/plain": [
       "True"
      ]
     },
     "execution_count": 6,
     "metadata": {},
     "output_type": "execute_result"
    }
   ],
   "source": [
    "10.5==10.50"
   ]
  },
  {
   "cell_type": "code",
   "execution_count": 8,
   "id": "ca9d2ae2-edfb-4479-b8d0-cdab2a835f79",
   "metadata": {},
   "outputs": [
    {
     "ename": "SyntaxError",
     "evalue": "leading zeros in decimal integer literals are not permitted; use an 0o prefix for octal integers (214576337.py, line 2)",
     "output_type": "error",
     "traceback": [
      "\u001b[1;36m  Cell \u001b[1;32mIn[8], line 2\u001b[1;36m\u001b[0m\n\u001b[1;33m    print(0015)\u001b[0m\n\u001b[1;37m          ^\u001b[0m\n\u001b[1;31mSyntaxError\u001b[0m\u001b[1;31m:\u001b[0m leading zeros in decimal integer literals are not permitted; use an 0o prefix for octal integers\n"
     ]
    }
   ],
   "source": [
    "print(5)\n",
    "print(0015)"
   ]
  },
  {
   "cell_type": "code",
   "execution_count": 11,
   "id": "eaa1d5ed-9150-491d-a6ef-06b8dfabbf54",
   "metadata": {},
   "outputs": [
    {
     "name": "stdout",
     "output_type": "stream",
     "text": [
      "13\n"
     ]
    }
   ],
   "source": [
    "#octal to decimal\n",
    "print(0o15)"
   ]
  },
  {
   "cell_type": "code",
   "execution_count": 13,
   "id": "7aeea52d-277b-401c-8ddf-7e6911e23556",
   "metadata": {},
   "outputs": [
    {
     "name": "stdout",
     "output_type": "stream",
     "text": [
      "5.0\n",
      "15.15\n"
     ]
    }
   ],
   "source": [
    "print(5.00)\n",
    "print(0015.1500)"
   ]
  },
  {
   "cell_type": "code",
   "execution_count": 14,
   "id": "fd618326-709b-4eac-80c9-2c6ab463fa12",
   "metadata": {},
   "outputs": [
    {
     "ename": "TypeError",
     "evalue": "can only concatenate str (not \"float\") to str",
     "output_type": "error",
     "traceback": [
      "\u001b[1;31m---------------------------------------------------------------------------\u001b[0m",
      "\u001b[1;31mTypeError\u001b[0m                                 Traceback (most recent call last)",
      "Cell \u001b[1;32mIn[14], line 3\u001b[0m\n\u001b[0;32m      1\u001b[0m a\u001b[38;5;241m=\u001b[39m\u001b[38;5;124m\"\u001b[39m\u001b[38;5;124m5\u001b[39m\u001b[38;5;124m\"\u001b[39m\n\u001b[0;32m      2\u001b[0m b\u001b[38;5;241m=\u001b[39m\u001b[38;5;241m5.0\u001b[39m\n\u001b[1;32m----> 3\u001b[0m c\u001b[38;5;241m=\u001b[39ma\u001b[38;5;241m+\u001b[39mb\n",
      "\u001b[1;31mTypeError\u001b[0m: can only concatenate str (not \"float\") to str"
     ]
    }
   ],
   "source": [
    "a=\"5\"\n",
    "b=5.0\n",
    "c=a+b"
   ]
  },
  {
   "cell_type": "code",
   "execution_count": 17,
   "id": "0e347f1b-4e13-4d6a-9bb7-307c412d83dd",
   "metadata": {},
   "outputs": [
    {
     "data": {
      "text/plain": [
       "3"
      ]
     },
     "execution_count": 17,
     "metadata": {},
     "output_type": "execute_result"
    }
   ],
   "source": [
    "b=3\n",
    "c=True\n",
    "b*c"
   ]
  },
  {
   "cell_type": "code",
   "execution_count": 18,
   "id": "2d0d8911-646c-4069-af12-5cc15c8ac8f7",
   "metadata": {},
   "outputs": [
    {
     "data": {
      "text/plain": [
       "10.0"
      ]
     },
     "execution_count": 18,
     "metadata": {},
     "output_type": "execute_result"
    }
   ],
   "source": [
    "x=10-20j\n",
    "x.real"
   ]
  },
  {
   "cell_type": "code",
   "execution_count": 19,
   "id": "995c184a-a664-4461-a526-05d63c3a1fe4",
   "metadata": {},
   "outputs": [
    {
     "data": {
      "text/plain": [
       "-20.0"
      ]
     },
     "execution_count": 19,
     "metadata": {},
     "output_type": "execute_result"
    }
   ],
   "source": [
    "x.imag"
   ]
  },
  {
   "cell_type": "code",
   "execution_count": 24,
   "id": "ce74898c-16f6-4db2-82d3-78680804ed03",
   "metadata": {},
   "outputs": [
    {
     "data": {
      "text/plain": [
       "-20.0"
      ]
     },
     "execution_count": 24,
     "metadata": {},
     "output_type": "execute_result"
    }
   ],
   "source": [
    "x=10+-20j\n",
    "x.imag"
   ]
  },
  {
   "cell_type": "code",
   "execution_count": 25,
   "id": "e202e429-f879-489a-9e30-b4e1e35d25ca",
   "metadata": {},
   "outputs": [
    {
     "ename": "SyntaxError",
     "evalue": "invalid syntax (857719672.py, line 1)",
     "output_type": "error",
     "traceback": [
      "\u001b[1;36m  Cell \u001b[1;32mIn[25], line 1\u001b[1;36m\u001b[0m\n\u001b[1;33m    x=10+-(20)j\u001b[0m\n\u001b[1;37m              ^\u001b[0m\n\u001b[1;31mSyntaxError\u001b[0m\u001b[1;31m:\u001b[0m invalid syntax\n"
     ]
    }
   ],
   "source": [
    "x=10+-(20)j\n",
    "x.imag"
   ]
  },
  {
   "cell_type": "code",
   "execution_count": 27,
   "id": "8bea39cd-9b7e-4a38-b011-06c4caec54ab",
   "metadata": {},
   "outputs": [
    {
     "data": {
      "text/plain": [
       "-20.0"
      ]
     },
     "execution_count": 27,
     "metadata": {},
     "output_type": "execute_result"
    }
   ],
   "source": [
    "x = 10 + (-20j)\n",
    "x.imag "
   ]
  },
  {
   "cell_type": "code",
   "execution_count": 28,
   "id": "890794a4-2a57-4fbe-b4c7-5de665979f28",
   "metadata": {},
   "outputs": [
    {
     "data": {
      "text/plain": [
       "505"
      ]
     },
     "execution_count": 28,
     "metadata": {},
     "output_type": "execute_result"
    }
   ],
   "source": [
    "a=\"505\"\n",
    "int(a)\n"
   ]
  },
  {
   "cell_type": "code",
   "execution_count": 29,
   "id": "c7a89ca5-e9ab-4890-8965-f745c9b57aef",
   "metadata": {},
   "outputs": [
    {
     "data": {
      "text/plain": [
       "505.0"
      ]
     },
     "execution_count": 29,
     "metadata": {},
     "output_type": "execute_result"
    }
   ],
   "source": [
    "float(a)"
   ]
  },
  {
   "cell_type": "code",
   "execution_count": 30,
   "id": "0263d247-8594-430b-b5e5-26611e6da81c",
   "metadata": {},
   "outputs": [
    {
     "data": {
      "text/plain": [
       "505"
      ]
     },
     "execution_count": 30,
     "metadata": {},
     "output_type": "execute_result"
    }
   ],
   "source": [
    "a=505\n",
    "int(a)"
   ]
  },
  {
   "cell_type": "code",
   "execution_count": 31,
   "id": "2e7a2424-b128-4b2a-8b4a-7df5691018fe",
   "metadata": {},
   "outputs": [
    {
     "ename": "ValueError",
     "evalue": "invalid literal for int() with base 10: '505.5'",
     "output_type": "error",
     "traceback": [
      "\u001b[1;31m---------------------------------------------------------------------------\u001b[0m",
      "\u001b[1;31mValueError\u001b[0m                                Traceback (most recent call last)",
      "Cell \u001b[1;32mIn[31], line 2\u001b[0m\n\u001b[0;32m      1\u001b[0m a\u001b[38;5;241m=\u001b[39m\u001b[38;5;124m\"\u001b[39m\u001b[38;5;124m505.5\u001b[39m\u001b[38;5;124m\"\u001b[39m\n\u001b[1;32m----> 2\u001b[0m \u001b[38;5;28mint\u001b[39m(a)\n",
      "\u001b[1;31mValueError\u001b[0m: invalid literal for int() with base 10: '505.5'"
     ]
    }
   ],
   "source": [
    "a=\"505.5\"\n",
    "int(a)"
   ]
  },
  {
   "cell_type": "code",
   "execution_count": 32,
   "id": "b2b65ec2-b003-4e8d-aeee-b9e944f8357a",
   "metadata": {},
   "outputs": [
    {
     "data": {
      "text/plain": [
       "505"
      ]
     },
     "execution_count": 32,
     "metadata": {},
     "output_type": "execute_result"
    }
   ],
   "source": [
    "a=505.5\n",
    "int(a)"
   ]
  },
  {
   "cell_type": "code",
   "execution_count": 33,
   "id": "e5afa272-d10b-43f6-81d9-e72bb65ad288",
   "metadata": {},
   "outputs": [
    {
     "data": {
      "text/plain": [
       "505"
      ]
     },
     "execution_count": 33,
     "metadata": {},
     "output_type": "execute_result"
    }
   ],
   "source": [
    "a=\"505.5\"\n",
    "int(float(a))"
   ]
  },
  {
   "cell_type": "code",
   "execution_count": 37,
   "id": "e8c90d97-c2a5-4571-b892-fc5fbcefb60e",
   "metadata": {},
   "outputs": [
    {
     "name": "stdout",
     "output_type": "stream",
     "text": [
      "enetr decimal number: 10.5\n"
     ]
    },
    {
     "ename": "ValueError",
     "evalue": "invalid literal for int() with base 10: '10.5'",
     "output_type": "error",
     "traceback": [
      "\u001b[1;31m---------------------------------------------------------------------------\u001b[0m",
      "\u001b[1;31mValueError\u001b[0m                                Traceback (most recent call last)",
      "Cell \u001b[1;32mIn[37], line 2\u001b[0m\n\u001b[0;32m      1\u001b[0m a\u001b[38;5;241m=\u001b[39m\u001b[38;5;28minput\u001b[39m(\u001b[38;5;124m\"\u001b[39m\u001b[38;5;124menetr decimal number:\u001b[39m\u001b[38;5;124m\"\u001b[39m)\n\u001b[1;32m----> 2\u001b[0m \u001b[38;5;28mint\u001b[39m (a)\n",
      "\u001b[1;31mValueError\u001b[0m: invalid literal for int() with base 10: '10.5'"
     ]
    }
   ],
   "source": [
    "a=input(\"enetr decimal number:\")\n",
    "int (a)"
   ]
  },
  {
   "cell_type": "code",
   "execution_count": 38,
   "id": "39f4ab71-73ba-4cd8-a019-91995a9c68af",
   "metadata": {},
   "outputs": [
    {
     "data": {
      "text/plain": [
       "10.5"
      ]
     },
     "execution_count": 38,
     "metadata": {},
     "output_type": "execute_result"
    }
   ],
   "source": [
    "float(a)"
   ]
  },
  {
   "cell_type": "code",
   "execution_count": 39,
   "id": "30c91130-fa52-40b0-adce-ed68bcf0aa7f",
   "metadata": {},
   "outputs": [
    {
     "data": {
      "text/plain": [
       "10"
      ]
     },
     "execution_count": 39,
     "metadata": {},
     "output_type": "execute_result"
    }
   ],
   "source": [
    "int(float(a))"
   ]
  },
  {
   "cell_type": "code",
   "execution_count": 40,
   "id": "0a454fe2-f472-4ada-b76b-9c33709c5227",
   "metadata": {},
   "outputs": [
    {
     "ename": "SyntaxError",
     "evalue": "invalid syntax. Perhaps you forgot a comma? (3220107564.py, line 1)",
     "output_type": "error",
     "traceback": [
      "\u001b[1;36m  Cell \u001b[1;32mIn[40], line 1\u001b[1;36m\u001b[0m\n\u001b[1;33m    print(\"nabin's \"pc\"\")\u001b[0m\n\u001b[1;37m          ^\u001b[0m\n\u001b[1;31mSyntaxError\u001b[0m\u001b[1;31m:\u001b[0m invalid syntax. Perhaps you forgot a comma?\n"
     ]
    }
   ],
   "source": [
    "print(\"nabin's \"pc\"\")"
   ]
  },
  {
   "cell_type": "code",
   "execution_count": 42,
   "id": "0f29d49a-273f-4d31-9b78-7858da7b2abd",
   "metadata": {},
   "outputs": [
    {
     "data": {
      "text/plain": [
       "'4024'"
      ]
     },
     "execution_count": 42,
     "metadata": {},
     "output_type": "execute_result"
    }
   ],
   "source": [
    "#concatenation should be of same type\n",
    "a=\"40\"\n",
    "b=\"24\"\n",
    "a+b"
   ]
  },
  {
   "cell_type": "code",
   "execution_count": 43,
   "id": "279ac57e-791d-44fb-85c9-0b767102e869",
   "metadata": {},
   "outputs": [
    {
     "data": {
      "text/plain": [
       "4024"
      ]
     },
     "execution_count": 43,
     "metadata": {},
     "output_type": "execute_result"
    }
   ],
   "source": [
    "int(a+b)"
   ]
  },
  {
   "cell_type": "code",
   "execution_count": 44,
   "id": "1c8bf6b8-70f4-401a-977d-30b4c99edf28",
   "metadata": {},
   "outputs": [
    {
     "data": {
      "text/plain": [
       "64"
      ]
     },
     "execution_count": 44,
     "metadata": {},
     "output_type": "execute_result"
    }
   ],
   "source": [
    "int(a)+int(b)"
   ]
  },
  {
   "cell_type": "code",
   "execution_count": null,
   "id": "1c1af744-a458-4390-a753-aa5b23d07802",
   "metadata": {},
   "outputs": [],
   "source": []
  }
 ],
 "metadata": {
  "kernelspec": {
   "display_name": "Python 3 (ipykernel)",
   "language": "python",
   "name": "python3"
  },
  "language_info": {
   "codemirror_mode": {
    "name": "ipython",
    "version": 3
   },
   "file_extension": ".py",
   "mimetype": "text/x-python",
   "name": "python",
   "nbconvert_exporter": "python",
   "pygments_lexer": "ipython3",
   "version": "3.11.7"
  }
 },
 "nbformat": 4,
 "nbformat_minor": 5
}
