{
 "cells": [
  {
   "cell_type": "code",
   "execution_count": 1,
   "id": "d57defe0-fa44-490e-8488-5a567cc26a46",
   "metadata": {},
   "outputs": [
    {
     "name": "stdout",
     "output_type": "stream",
     "text": [
      "0 hello\n",
      "1 hello\n",
      "2 hello\n",
      "3 hello\n",
      "4 hello\n",
      "5 hello\n",
      "6 hello\n",
      "7 hello\n",
      "8 hello\n",
      "9 hello\n"
     ]
    }
   ],
   "source": [
    "for x in range (10):\n",
    "    print( x,'hello')\n",
    "    "
   ]
  },
  {
   "cell_type": "code",
   "execution_count": 4,
   "id": "65ae9f38-c1d3-4351-85b9-c0c64390e030",
   "metadata": {},
   "outputs": [
    {
     "name": "stdout",
     "output_type": "stream",
     "text": [
      "12345678910"
     ]
    }
   ],
   "source": [
    "for i in range (1,11):\n",
    "    print(i,end=\"\")\n",
    "    "
   ]
  },
  {
   "cell_type": "code",
   "execution_count": 1,
   "id": "f509f2d0-b963-4aff-978e-5deae63fbd16",
   "metadata": {},
   "outputs": [
    {
     "data": {
      "text/plain": [
       "(1, 2)"
      ]
     },
     "execution_count": 1,
     "metadata": {},
     "output_type": "execute_result"
    }
   ],
   "source": [
    "divmod (6,4)"
   ]
  },
  {
   "cell_type": "code",
   "execution_count": 2,
   "id": "646dcf93-50ed-463f-b4dd-8f9bdc397531",
   "metadata": {},
   "outputs": [],
   "source": [
    "def even_odd():\n",
    "    \"\"\" check even odd\"\"\"\n",
    "    a=int(input(\"enter a number\"))\n",
    "    if a%2==0:\n",
    "        print(\"num is even\")\n",
    "    else:\n",
    "        print(\"num is odd\")"
   ]
  },
  {
   "cell_type": "code",
   "execution_count": 3,
   "id": "eca1e1a6-f1ea-43f0-bd0f-aa140ebfdeb4",
   "metadata": {},
   "outputs": [
    {
     "name": "stdin",
     "output_type": "stream",
     "text": [
      "enter a number 3\n"
     ]
    },
    {
     "name": "stdout",
     "output_type": "stream",
     "text": [
      "num is odd\n"
     ]
    }
   ],
   "source": [
    "even_odd() #ye function name mein yahi code run hoga"
   ]
  },
  {
   "cell_type": "code",
   "execution_count": 11,
   "id": "52531ed3-2b84-42b9-8342-cf9a89fcb8f6",
   "metadata": {},
   "outputs": [],
   "source": [
    "def even_odd(a):\n",
    "    \"\"\" check even odd with one argument\"\"\"\n",
    "    if a%2==0:\n",
    "        print(\"num is even\")\n",
    "    else:\n",
    "        print(\"num is odd\")"
   ]
  },
  {
   "cell_type": "code",
   "execution_count": 14,
   "id": "512be55a-5a86-42d9-9db7-3b171a0dd155",
   "metadata": {},
   "outputs": [
    {
     "name": "stdout",
     "output_type": "stream",
     "text": [
      "num is even\n"
     ]
    }
   ],
   "source": [
    "even_odd(4)"
   ]
  },
  {
   "cell_type": "code",
   "execution_count": 9,
   "id": "958b39a9-d10e-4618-9521-8cb1d1ffc4c7",
   "metadata": {},
   "outputs": [],
   "source": [
    "def even_odd_2():\n",
    "    \"\"\" check even odd with one argument\"\"\"\n",
    "    a=int(input(\"enter num-\"))\n",
    "    b=int(input(\"enter num-\"))\n",
    "    s=a+b\n",
    "    if s%2==0:\n",
    "        print(\"num is even\")\n",
    "    else:\n",
    "        print(\"num is odd\")"
   ]
  },
  {
   "cell_type": "code",
   "execution_count": 10,
   "id": "f0c8c470-df49-42d7-9c67-14c8c0582321",
   "metadata": {},
   "outputs": [
    {
     "name": "stdin",
     "output_type": "stream",
     "text": [
      "enter num- 2\n",
      "enter num- 2\n"
     ]
    },
    {
     "name": "stdout",
     "output_type": "stream",
     "text": [
      "num is even\n"
     ]
    }
   ],
   "source": [
    "even_odd_2()"
   ]
  },
  {
   "cell_type": "code",
   "execution_count": 16,
   "id": "40abc602-6201-4973-b224-b322a14d0fb7",
   "metadata": {},
   "outputs": [],
   "source": [
    "def even_odd_3(a,b):\n",
    "    \"\"\" check even odd with one argument\"\"\"\n",
    "    s=a+b\n",
    "    if s%2==0:\n",
    "        print(\"num\",s,\" is even\")\n",
    "    else:\n",
    "        print(\"num\",s,\" is odd\")"
   ]
  },
  {
   "cell_type": "code",
   "execution_count": 17,
   "id": "8fafd46f-9b16-44a1-b979-de7dbf0f58ba",
   "metadata": {},
   "outputs": [
    {
     "name": "stdout",
     "output_type": "stream",
     "text": [
      "num 6  is even\n"
     ]
    }
   ],
   "source": [
    "even_odd_3(2,4)"
   ]
  },
  {
   "cell_type": "code",
   "execution_count": null,
   "id": "e01adef6-eea3-4d9f-8cbe-35f7ea18c74d",
   "metadata": {},
   "outputs": [],
   "source": []
  }
 ],
 "metadata": {
  "kernelspec": {
   "display_name": "Python 3 (ipykernel)",
   "language": "python",
   "name": "python3"
  },
  "language_info": {
   "codemirror_mode": {
    "name": "ipython",
    "version": 3
   },
   "file_extension": ".py",
   "mimetype": "text/x-python",
   "name": "python",
   "nbconvert_exporter": "python",
   "pygments_lexer": "ipython3",
   "version": "3.11.7"
  }
 },
 "nbformat": 4,
 "nbformat_minor": 5
}
