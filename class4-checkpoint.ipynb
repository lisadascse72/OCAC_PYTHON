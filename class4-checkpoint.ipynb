{
 "cells": [
  {
   "cell_type": "code",
   "execution_count": 1,
   "id": "63f901e2-c729-4a0a-a666-24b43b68dbe6",
   "metadata": {},
   "outputs": [
    {
     "name": "stdout",
     "output_type": "stream",
     "text": [
      "enter your age 19\n"
     ]
    },
    {
     "data": {
      "text/plain": [
       "'19'"
      ]
     },
     "execution_count": 1,
     "metadata": {},
     "output_type": "execute_result"
    }
   ],
   "source": [
    "n=input(\"enter your age\")\n",
    "n"
   ]
  },
  {
   "cell_type": "code",
   "execution_count": 2,
   "id": "8d1369ca-00fe-4de0-a47b-d3a7c5373d0c",
   "metadata": {},
   "outputs": [
    {
     "name": "stdout",
     "output_type": "stream",
     "text": [
      "enter your age 19\n"
     ]
    },
    {
     "ename": "TypeError",
     "evalue": "can only concatenate str (not \"method\") to str",
     "output_type": "error",
     "traceback": [
      "\u001b[1;31m---------------------------------------------------------------------------\u001b[0m",
      "\u001b[1;31mTypeError\u001b[0m                                 Traceback (most recent call last)",
      "Cell \u001b[1;32mIn[2], line 2\u001b[0m\n\u001b[0;32m      1\u001b[0m n\u001b[38;5;241m=\u001b[39m\u001b[38;5;28minput\u001b[39m(\u001b[38;5;124m\"\u001b[39m\u001b[38;5;124menter your age\u001b[39m\u001b[38;5;124m\"\u001b[39m)\n\u001b[1;32m----> 2\u001b[0m \u001b[38;5;28mprint\u001b[39m(\u001b[38;5;124m\"\u001b[39m\u001b[38;5;124mmy age is\u001b[39m\u001b[38;5;124m\"\u001b[39m\u001b[38;5;241m+\u001b[39m \u001b[38;5;28minput\u001b[39m)\n",
      "\u001b[1;31mTypeError\u001b[0m: can only concatenate str (not \"method\") to str"
     ]
    }
   ],
   "source": [
    "n=input(\"enter your age\")\n",
    "print(\"my age is\"+ input)"
   ]
  },
  {
   "cell_type": "code",
   "execution_count": 4,
   "id": "57c9f850-97eb-4809-982e-f46f9c743b8f",
   "metadata": {},
   "outputs": [
    {
     "name": "stdout",
     "output_type": "stream",
     "text": [
      "enter your age 19\n"
     ]
    },
    {
     "name": "stdout",
     "output_type": "stream",
     "text": [
      "my age is 19\n"
     ]
    }
   ],
   "source": [
    "n=input(\"enter your age\")\n",
    "print(\"my age is \"+ n)"
   ]
  },
  {
   "cell_type": "code",
   "execution_count": 8,
   "id": "b404d238-1b62-4292-a771-4d81882a72b2",
   "metadata": {},
   "outputs": [
    {
     "name": "stdout",
     "output_type": "stream",
     "text": [
      "enter your names:  lisa swaroop\n"
     ]
    },
    {
     "name": "stdout",
     "output_type": "stream",
     "text": [
      "lisa\n",
      "swaroop\n"
     ]
    }
   ],
   "source": [
    "#multiple inputs in one entry\n",
    "var_1, var_2 = input(\"enter your names: \").split(\" \")\n",
    "print(var_1)\n",
    "print(var_2)"
   ]
  },
  {
   "cell_type": "code",
   "execution_count": 9,
   "id": "f1299568-b077-455e-a00b-3b712c417cd3",
   "metadata": {},
   "outputs": [],
   "source": [
    "#check type of data type\n",
    "a=24"
   ]
  },
  {
   "cell_type": "code",
   "execution_count": 10,
   "id": "83ebad5f-0a7b-4e96-a3df-00813ba50fa1",
   "metadata": {},
   "outputs": [
    {
     "data": {
      "text/plain": [
       "int"
      ]
     },
     "execution_count": 10,
     "metadata": {},
     "output_type": "execute_result"
    }
   ],
   "source": [
    "type(a)"
   ]
  },
  {
   "cell_type": "code",
   "execution_count": 11,
   "id": "017bb5f7-f320-4628-bd82-324815506941",
   "metadata": {},
   "outputs": [
    {
     "data": {
      "text/plain": [
       "1"
      ]
     },
     "execution_count": 11,
     "metadata": {},
     "output_type": "execute_result"
    }
   ],
   "source": [
    "#typecasting: one data type to other conversion\n",
    "b=1.3\n",
    "int(b)"
   ]
  },
  {
   "cell_type": "code",
   "execution_count": 13,
   "id": "6b80a931-682d-4a25-915b-f2ef7e46999d",
   "metadata": {},
   "outputs": [
    {
     "data": {
      "text/plain": [
       "bool"
      ]
     },
     "execution_count": 13,
     "metadata": {},
     "output_type": "execute_result"
    }
   ],
   "source": [
    "#boolean understanding\n",
    "b1= True\n",
    "type(b1)"
   ]
  },
  {
   "cell_type": "code",
   "execution_count": 14,
   "id": "4284cf34-2a67-4a63-a4dd-dd79a7477c01",
   "metadata": {},
   "outputs": [
    {
     "data": {
      "text/plain": [
       "bool"
      ]
     },
     "execution_count": 14,
     "metadata": {},
     "output_type": "execute_result"
    }
   ],
   "source": [
    "b1=False\n",
    "type(b1)"
   ]
  },
  {
   "cell_type": "code",
   "execution_count": 15,
   "id": "925e087d-e70f-48bf-bf6d-b8b5a6678b13",
   "metadata": {},
   "outputs": [
    {
     "data": {
      "text/plain": [
       "int"
      ]
     },
     "execution_count": 15,
     "metadata": {},
     "output_type": "execute_result"
    }
   ],
   "source": [
    "e1=24\n",
    "type(e1)"
   ]
  },
  {
   "cell_type": "code",
   "execution_count": 16,
   "id": "d412460d-71ed-48c0-9a02-8deca113415d",
   "metadata": {},
   "outputs": [
    {
     "ename": "NameError",
     "evalue": "name 'lisa' is not defined",
     "output_type": "error",
     "traceback": [
      "\u001b[1;31m---------------------------------------------------------------------------\u001b[0m",
      "\u001b[1;31mNameError\u001b[0m                                 Traceback (most recent call last)",
      "Cell \u001b[1;32mIn[16], line 1\u001b[0m\n\u001b[1;32m----> 1\u001b[0m f1\u001b[38;5;241m=\u001b[39mlisa\n\u001b[0;32m      2\u001b[0m \u001b[38;5;28mtype\u001b[39m(f1)\n",
      "\u001b[1;31mNameError\u001b[0m: name 'lisa' is not defined"
     ]
    }
   ],
   "source": [
    "f1=lisa\n",
    "type(f1)\n"
   ]
  },
  {
   "cell_type": "code",
   "execution_count": 17,
   "id": "ace93917-e89c-46e0-9f0e-68dfbac2176c",
   "metadata": {},
   "outputs": [
    {
     "ename": "NameError",
     "evalue": "name 'true' is not defined",
     "output_type": "error",
     "traceback": [
      "\u001b[1;31m---------------------------------------------------------------------------\u001b[0m",
      "\u001b[1;31mNameError\u001b[0m                                 Traceback (most recent call last)",
      "Cell \u001b[1;32mIn[17], line 1\u001b[0m\n\u001b[1;32m----> 1\u001b[0m true\u001b[38;5;241m+\u001b[39mtrue\n",
      "\u001b[1;31mNameError\u001b[0m: name 'true' is not defined"
     ]
    }
   ],
   "source": [
    "true+true"
   ]
  },
  {
   "cell_type": "code",
   "execution_count": 18,
   "id": "9d3a88db-d30c-4561-8b8e-02f34969f0ee",
   "metadata": {},
   "outputs": [
    {
     "ename": "NameError",
     "evalue": "name 'true' is not defined",
     "output_type": "error",
     "traceback": [
      "\u001b[1;31m---------------------------------------------------------------------------\u001b[0m",
      "\u001b[1;31mNameError\u001b[0m                                 Traceback (most recent call last)",
      "Cell \u001b[1;32mIn[18], line 1\u001b[0m\n\u001b[1;32m----> 1\u001b[0m \u001b[38;5;28mint\u001b[39m(true)\n",
      "\u001b[1;31mNameError\u001b[0m: name 'true' is not defined"
     ]
    }
   ],
   "source": [
    "int(true)"
   ]
  },
  {
   "cell_type": "code",
   "execution_count": null,
   "id": "33c35a78-4c05-4d96-ad47-1e085b4aa3f6",
   "metadata": {},
   "outputs": [],
   "source": []
  }
 ],
 "metadata": {
  "kernelspec": {
   "display_name": "Python 3 (ipykernel)",
   "language": "python",
   "name": "python3"
  },
  "language_info": {
   "codemirror_mode": {
    "name": "ipython",
    "version": 3
   },
   "file_extension": ".py",
   "mimetype": "text/x-python",
   "name": "python",
   "nbconvert_exporter": "python",
   "pygments_lexer": "ipython3",
   "version": "3.11.7"
  }
 },
 "nbformat": 4,
 "nbformat_minor": 5
}
