{
 "cells": [
  {
   "cell_type": "code",
   "execution_count": 12,
   "id": "b2a1cb2d-0cbe-4602-952f-c7e53d8e4d66",
   "metadata": {},
   "outputs": [],
   "source": [
    "def multiply(a,b):  #a,b are parameters, function creation\n",
    "    mul=a*b\n",
    "    print(\"multiplication of {} and {} is {}\".format(a,b,mul))\n",
    "    "
   ]
  },
  {
   "cell_type": "code",
   "execution_count": 13,
   "id": "c74496e4-7b29-4a3f-8b90-17438e68a0e9",
   "metadata": {},
   "outputs": [
    {
     "name": "stdout",
     "output_type": "stream",
     "text": [
      "multiplication of 2 and 3 is 6\n"
     ]
    }
   ],
   "source": [
    "multiply(2,3)   #2,3 is argument,function call"
   ]
  },
  {
   "cell_type": "code",
   "execution_count": 18,
   "id": "4792d3d3-20bb-447d-b2d6-debece32683e",
   "metadata": {},
   "outputs": [],
   "source": [
    "def multiply(a,b):\n",
    "    #argument has more value than parameter passed\n",
    "    a=int(input(\"enter a:\"))\n",
    "    b=int(input(\"enter b:\"))\n",
    "    mul=a*b\n",
    "    print(\"multiplication of {} and {} is {}\".format(a,b,mul))"
   ]
  },
  {
   "cell_type": "code",
   "execution_count": 19,
   "id": "8f335dc4-01b0-4941-b05a-31d658b4d069",
   "metadata": {},
   "outputs": [
    {
     "name": "stdin",
     "output_type": "stream",
     "text": [
      "enter a: 2\n",
      "enter b: 4\n"
     ]
    },
    {
     "name": "stdout",
     "output_type": "stream",
     "text": [
      "multiplication of 2 and 4 is 8\n"
     ]
    }
   ],
   "source": [
    "multiply(6,9) "
   ]
  },
  {
   "cell_type": "code",
   "execution_count": 23,
   "id": "5c8d6cf6-3614-4968-9e72-795d284f17c2",
   "metadata": {},
   "outputs": [
    {
     "name": "stdout",
     "output_type": "stream",
     "text": [
      " oyee lisa,hi brooo\n"
     ]
    }
   ],
   "source": [
    "#keyword arguments, key mein arguments\n",
    "def greet(**kwargs):\n",
    "    if kwargs:\n",
    "        print(\" oyee {},{}\".format(kwargs['name'],kwargs['msg']))\n",
    "\n",
    "greet(name=\"lisa\",msg=\"hi brooo\")"
   ]
  },
  {
   "cell_type": "code",
   "execution_count": 27,
   "id": "fea3d432-e343-4fe3-987a-bf534deba394",
   "metadata": {},
   "outputs": [],
   "source": [
    "#arbitary arguments\n",
    "def greet(*names):\n",
    "    print(names)\n",
    "    for name in names:\n",
    "        print(\"hello,{0}\".format(name))"
   ]
  },
  {
   "cell_type": "code",
   "execution_count": 26,
   "id": "cff27ee3-b6c8-4a85-b7b5-60a5ca95968f",
   "metadata": {},
   "outputs": [
    {
     "name": "stdout",
     "output_type": "stream",
     "text": [
      "('lisa', 'swaroop')\n",
      "hello,lisa\n",
      "hello,swaroop\n"
     ]
    }
   ],
   "source": [
    "greet(\"lisa\",\"swaroop\")"
   ]
  },
  {
   "cell_type": "code",
   "execution_count": 28,
   "id": "e63f7a57-9584-4ac8-a241-f2ca835ab24f",
   "metadata": {},
   "outputs": [],
   "source": [
    "#recursion\n",
    "def factorial(num):\n",
    "    if num==0:\n",
    "        return 1\n",
    "    else:\n",
    "        return num*factorial(num-1)"
   ]
  },
  {
   "cell_type": "code",
   "execution_count": 29,
   "id": "e845e1b3-83f7-4a4b-918f-5f8e4eddde4f",
   "metadata": {},
   "outputs": [
    {
     "name": "stdout",
     "output_type": "stream",
     "text": [
      "factorial of 5 is 120\n"
     ]
    }
   ],
   "source": [
    "num=5\n",
    "print(\"factorial of {} is {}\".format(num,factorial(num)))"
   ]
  },
  {
   "cell_type": "code",
   "execution_count": 57,
   "id": "33e87527-d22e-4e3b-80a0-8a7c8cdf9a81",
   "metadata": {},
   "outputs": [
    {
     "name": "stdin",
     "output_type": "stream",
     "text": [
      "enter a: 4\n",
      "enter b: 2\n"
     ]
    },
    {
     "name": "stdout",
     "output_type": "stream",
     "text": [
      "select an operation\n",
      "1 for addition\n",
      "2 for subtraction\n",
      "3 for multiply\n",
      "4 for division\n",
      "5 for modulus\n"
     ]
    },
    {
     "name": "stdin",
     "output_type": "stream",
     "text": [
      "choose 1,2,3,4,5 as your need 2\n"
     ]
    },
    {
     "name": "stdout",
     "output_type": "stream",
     "text": [
      "diff of 4 & 2 is 2\n"
     ]
    }
   ],
   "source": [
    "a=int(input(\"enter a:\"))\n",
    "b=int(input(\"enter b:\"))\n",
    "def add(a,b):\n",
    "      c=a+b\n",
    "      return c\n",
    "def sub(a,b):\n",
    "      d=a-b\n",
    "      return d\n",
    "def mul(a,b):\n",
    "      e=a*b\n",
    "      return e\n",
    "def div(a,b):\n",
    "     f=a/b\n",
    "     return f\n",
    "def mod(a,b):\n",
    "     g=a%b\n",
    "     return g\n",
    "print(\"select an operation\")\n",
    "print(\"1 for addition\")\n",
    "print(\"2 for subtraction\")\n",
    "print(\"3 for multiply\")\n",
    "print(\"4 for division\")\n",
    "print(\"5 for modulus\")\n",
    "x=int(input(\"choose 1,2,3,4,5 as your need\"))\n",
    "if x==1:\n",
    "    print(\"sum of {} & {} is {}\".format(a,b,add(a,b)))\n",
    "elif x==2:\n",
    "    print(\"diff of {} & {} is {}\".format(a,b,sub(a,b)))\n",
    "elif x==3:\n",
    "    print(\"mul of {} & {} is {}\".format(a,b,mul(a,b)))   \n",
    "elif x==4:\n",
    "    print(\"div of {} & {} is {}\".format(a,b,div(a,b)))   \n",
    "elif x==5:\n",
    "    print(\"mod of {} & {} is {}\".format(a,b,mod(a,b))) \n",
    "\n"
   ]
  },
  {
   "cell_type": "code",
   "execution_count": null,
   "id": "2f73642e-07bc-46d1-ad1f-3206b84956d9",
   "metadata": {},
   "outputs": [],
   "source": []
  },
  {
   "cell_type": "code",
   "execution_count": null,
   "id": "9fdb5672-2d92-4e17-98b6-8bae3d85622b",
   "metadata": {},
   "outputs": [],
   "source": []
  }
 ],
 "metadata": {
  "kernelspec": {
   "display_name": "Python 3 (ipykernel)",
   "language": "python",
   "name": "python3"
  },
  "language_info": {
   "codemirror_mode": {
    "name": "ipython",
    "version": 3
   },
   "file_extension": ".py",
   "mimetype": "text/x-python",
   "name": "python",
   "nbconvert_exporter": "python",
   "pygments_lexer": "ipython3",
   "version": "3.11.7"
  }
 },
 "nbformat": 4,
 "nbformat_minor": 5
}
